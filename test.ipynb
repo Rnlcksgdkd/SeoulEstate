{
 "cells": [
  {
   "cell_type": "code",
   "execution_count": 5,
   "metadata": {},
   "outputs": [],
   "source": [
    "import re\n",
    "import numpy as np\n",
    "import pandas as pd\n",
    "import requests\n",
    "from datetime import datetime\n",
    "from bs4 import BeautifulSoup\n",
    "\n",
    "def get_naver_realasset(area_code, page=1):\n",
    "    url = 'http://land.naver.com/article/articleList.nhn?' \\\n",
    "        + 'rletTypeCd=A01&tradeTypeCd=A1&hscpTypeCd=A01%3AA03%3AA04' \\\n",
    "        + '&cortarNo=' + area_code \\\n",
    "        + '&page=' + str(page)\n",
    "\n",
    "    print(url)\n",
    "\n",
    "\n",
    "    r = requests.get(url)\n",
    "    soup = BeautifulSoup(r.text, 'lxml')\n",
    "\n",
    "\n",
    "\n",
    "    table = soup.find('table')\n",
    "    trs = table.tbody.find_all('tr')\n",
    "    if '등록된 매물이 없습니다' in trs[0].text:\n",
    "        return pd.DataFrame()\n",
    "    \n",
    "    value_list = []\n",
    "\n",
    "    \n",
    "    # 거래, 종류, 확인일자, 매물명, 면적(㎡), 층, 매물가(만원), 연락처\n",
    "    for tr in trs[::2]:\n",
    "        tds = tr.find_all('td')\n",
    "        cols = [' '.join(td.text.strip().split()) for td in tds]\n",
    "\n",
    "        if '_thumb_image' not in tds[3]['class']: # 현장확인 날짜와 이미지가 없는 행\n",
    "            cols.insert(3, '')\n",
    "\n",
    "        # print(cols)\n",
    "        거래 = cols[0]\n",
    "        종류 = cols[1]\n",
    "        확인일자 = datetime.strptime(cols[2], '%y.%m.%d.')\n",
    "        현장확인 = cols[3]\n",
    "        매물명 = cols[4]\n",
    "        면적 = cols[5]\n",
    "        공급면적 = re.findall('공급면적(.*?)㎡', 면적)[0].replace(',', '')\n",
    "        전용면적 = re.findall('전용면적(.*?)㎡', 면적)[0].replace(',', '')\n",
    "        공급면적 = float(공급면적)\n",
    "        전용면적 = float(전용면적)\n",
    "        층 = cols[6]\n",
    "        if cols[7].find('호가일뿐 실거래가로확인된 금액이 아닙니다') >= 0:\n",
    "            pass # 단순호가 별도 처리하고자 하면 내용 추가\n",
    "        매물가 = int(cols[7].split(' ')[0].replace(',', '')) \n",
    "        연락처 = cols[8]\n",
    "        \n",
    "        value_list.append([거래, 종류, 확인일자, 현장확인, 매물명, 공급면적, 전용면적, 층, 매물가, 연락처])\n",
    "        \n",
    "    cols = ['거래', '종류', '확인일자', '현장확인', '매물명', '공급면적', '전용면적', '층', '매물가', '연락처']\n",
    "    df = pd.DataFrame(value_list, columns=cols)\n",
    "    return df"
   ]
  },
  {
   "cell_type": "code",
   "execution_count": 6,
   "metadata": {},
   "outputs": [
    {
     "ename": "AttributeError",
     "evalue": "'NoneType' object has no attribute 'tbody'",
     "output_type": "error",
     "traceback": [
      "\u001b[1;31m---------------------------------------------------------------------------\u001b[0m",
      "\u001b[1;31mAttributeError\u001b[0m                            Traceback (most recent call last)",
      "Cell \u001b[1;32mIn[6], line 1\u001b[0m\n\u001b[1;32m----> 1\u001b[0m df \u001b[38;5;241m=\u001b[39m get_naver_realasset(\u001b[38;5;124m'\u001b[39m\u001b[38;5;124m1168010600\u001b[39m\u001b[38;5;124m'\u001b[39m, \u001b[38;5;241m60\u001b[39m) \u001b[38;5;66;03m# 60 페이지\u001b[39;00m\n\u001b[0;32m      2\u001b[0m df\n",
      "Cell \u001b[1;32mIn[5], line 18\u001b[0m, in \u001b[0;36mget_naver_realasset\u001b[1;34m(area_code, page)\u001b[0m\n\u001b[0;32m     15\u001b[0m soup \u001b[38;5;241m=\u001b[39m BeautifulSoup(r\u001b[38;5;241m.\u001b[39mtext, \u001b[38;5;124m'\u001b[39m\u001b[38;5;124mlxml\u001b[39m\u001b[38;5;124m'\u001b[39m)\n\u001b[0;32m     17\u001b[0m table \u001b[38;5;241m=\u001b[39m soup\u001b[38;5;241m.\u001b[39mfind(\u001b[38;5;124m'\u001b[39m\u001b[38;5;124mtable\u001b[39m\u001b[38;5;124m'\u001b[39m)\n\u001b[1;32m---> 18\u001b[0m trs \u001b[38;5;241m=\u001b[39m table\u001b[38;5;241m.\u001b[39mtbody\u001b[38;5;241m.\u001b[39mfind_all(\u001b[38;5;124m'\u001b[39m\u001b[38;5;124mtr\u001b[39m\u001b[38;5;124m'\u001b[39m)\n\u001b[0;32m     19\u001b[0m \u001b[38;5;28;01mif\u001b[39;00m \u001b[38;5;124m'\u001b[39m\u001b[38;5;124m등록된 매물이 없습니다\u001b[39m\u001b[38;5;124m'\u001b[39m \u001b[38;5;129;01min\u001b[39;00m trs[\u001b[38;5;241m0\u001b[39m]\u001b[38;5;241m.\u001b[39mtext:\n\u001b[0;32m     20\u001b[0m     \u001b[38;5;28;01mreturn\u001b[39;00m pd\u001b[38;5;241m.\u001b[39mDataFrame()\n",
      "\u001b[1;31mAttributeError\u001b[0m: 'NoneType' object has no attribute 'tbody'"
     ]
    }
   ],
   "source": [
    "df = get_naver_realasset('1168010600', 60) # 60 페이지\n",
    "df"
   ]
  },
  {
   "cell_type": "code",
   "execution_count": null,
   "metadata": {},
   "outputs": [],
   "source": []
  }
 ],
 "metadata": {
  "kernelspec": {
   "display_name": "Python 3 (ipykernel)",
   "language": "python",
   "name": "python3"
  },
  "language_info": {
   "codemirror_mode": {
    "name": "ipython",
    "version": 3
   },
   "file_extension": ".py",
   "mimetype": "text/x-python",
   "name": "python",
   "nbconvert_exporter": "python",
   "pygments_lexer": "ipython3",
   "version": "3.12.7"
  }
 },
 "nbformat": 4,
 "nbformat_minor": 2
}
