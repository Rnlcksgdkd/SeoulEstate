{
 "cells": [
  {
   "cell_type": "code",
   "execution_count": 1,
   "id": "7b6b5cce-4459-4f25-93ef-7997d8a6e16e",
   "metadata": {},
   "outputs": [
    {
     "name": "stdout",
     "output_type": "stream",
     "text": [
      "API 요청 실패: 503\n"
     ]
    }
   ],
   "source": [
    "import requests\n",
    "import xml.etree.ElementTree as ET\n",
    "import pandas as pd\n",
    "\n",
    "# 👉 여기에 본인의 인증키를 넣으세요\n",
    "SERVICE_KEY = \"여기에_본인_서비스키\"\n",
    "\n",
    "# 요청할 기본 URL\n",
    "BASE_URL = \"http://openapi.molit.go.kr:8081/OpenAPI_ToolInstallPackage/service/rest/RTMSOBJSvc/getRTMSDataSvcAptTrade\"\n",
    "\n",
    "# 요청 파라미터 설정\n",
    "params = {\n",
    "    \"serviceKey\": SERVICE_KEY,\n",
    "    \"LAWD_CD\": \"11110\",        # 예: 서울 종로구 (법정동코드 앞 5자리)\n",
    "    \"DEAL_YMD\": \"202504\",      # 2025년 4월\n",
    "    \"pageNo\": \"1\",\n",
    "    \"numOfRows\": \"100\"\n",
    "}\n",
    "\n",
    "# 요청\n",
    "response = requests.get(BASE_URL, params=params)\n",
    "\n",
    "# 응답 확인\n",
    "if response.status_code == 200:\n",
    "    root = ET.fromstring(response.content)\n",
    "    items = root.findall(\".//item\")\n",
    "\n",
    "    data = []\n",
    "    for item in items:\n",
    "        row = {\n",
    "            \"거래금액\": item.findtext(\"거래금액\"),\n",
    "            \"건축년도\": item.findtext(\"건축년도\"),\n",
    "            \"도로명\": item.findtext(\"도로명\"),\n",
    "            \"법정동\": item.findtext(\"법정동\"),\n",
    "            \"전용면적\": item.findtext(\"전용면적\"),\n",
    "            \"거래일\": f\"{item.findtext('년')}-{item.findtext('월')}-{item.findtext('일')}\",\n",
    "            \"아파트\": item.findtext(\"아파트\"),\n",
    "            \"층\": item.findtext(\"층\")\n",
    "        }\n",
    "        data.append(row)\n",
    "\n",
    "    df = pd.DataFrame(data)\n",
    "    print(df.head())\n",
    "else:\n",
    "    print(\"API 요청 실패:\", response.status_code)\n"
   ]
  },
  {
   "cell_type": "code",
   "execution_count": null,
   "id": "c06bd5ff-81e5-4d04-ba01-e5191ad59b6c",
   "metadata": {},
   "outputs": [],
   "source": []
  }
 ],
 "metadata": {
  "kernelspec": {
   "display_name": "Python 3 (ipykernel)",
   "language": "python",
   "name": "python3"
  },
  "language_info": {
   "codemirror_mode": {
    "name": "ipython",
    "version": 3
   },
   "file_extension": ".py",
   "mimetype": "text/x-python",
   "name": "python",
   "nbconvert_exporter": "python",
   "pygments_lexer": "ipython3",
   "version": "3.12.7"
  }
 },
 "nbformat": 4,
 "nbformat_minor": 5
}
